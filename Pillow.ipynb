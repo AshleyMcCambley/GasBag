{
 "cells": [
  {
   "cell_type": "code",
   "execution_count": 8,
   "metadata": {},
   "outputs": [],
   "source": [
    "import numpy as np\n",
    "import math as m\n",
    "import matplotlib.pylab as plt\n",
    "import scipy.linalg as la\n",
    "import numpy.linalg as nla\n",
    "%matplotlib inline"
   ]
  },
  {
   "cell_type": "code",
   "execution_count": 25,
   "metadata": {},
   "outputs": [
    {
     "name": "stdout",
     "output_type": "stream",
     "text": [
      "0.10124476442339993\n"
     ]
    }
   ],
   "source": [
    "a = 0.81\n",
    "b = 0.81\n",
    "\n",
    "def vol(a,b):\n",
    "    return a**3*(b/(m.pi*a) - 0.142*(1-10**(-b/a)))\n",
    "\n",
    "volume = vol(a,b)\n",
    "print(volume)\n",
    "            \n"
   ]
  },
  {
   "cell_type": "code",
   "execution_count": null,
   "metadata": {},
   "outputs": [],
   "source": []
  }
 ],
 "metadata": {
  "kernelspec": {
   "display_name": "Python 3",
   "language": "python",
   "name": "python3"
  },
  "language_info": {
   "codemirror_mode": {
    "name": "ipython",
    "version": 3
   },
   "file_extension": ".py",
   "mimetype": "text/x-python",
   "name": "python",
   "nbconvert_exporter": "python",
   "pygments_lexer": "ipython3",
   "version": "3.7.4"
  }
 },
 "nbformat": 4,
 "nbformat_minor": 2
}
